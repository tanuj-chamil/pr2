{
 "cells": [
  {
   "cell_type": "code",
   "execution_count": 1,
   "metadata": {},
   "outputs": [],
   "source": [
    "from ipywidgets import interact\n",
    "import matplotlib.pyplot as plt\n",
    "import numpy as np\n",
    "from matplotlib.widgets import Slider"
   ]
  },
  {
   "cell_type": "code",
   "execution_count": 2,
   "metadata": {},
   "outputs": [],
   "source": [
    "def k(A,E,T):\n",
    "    R = 8.314\n",
    "    return A*np.exp(-E/(R*T))"
   ]
  },
  {
   "cell_type": "code",
   "execution_count": 3,
   "metadata": {},
   "outputs": [],
   "source": [
    "def F0(k,t):\n",
    "    return k*t"
   ]
  },
  {
   "cell_type": "code",
   "execution_count": 4,
   "metadata": {},
   "outputs": [],
   "source": [
    "import math\n",
    "\n",
    "def g(T, A, E, beta):\n",
    "    R = 8.314\n",
    "    c = math.log(A * E / (beta * R)) + 3.63504095 - 1.89466100 * math.log(E) - 1.00145033 * (E / (R * T))\n",
    "    return T**(1.89466100)*np.exp(c)\n"
   ]
  },
  {
   "cell_type": "code",
   "execution_count": 5,
   "metadata": {},
   "outputs": [
    {
     "data": {
      "application/vnd.jupyter.widget-view+json": {
       "model_id": "2759e4b3c6af455f8d72009b1e72b902",
       "version_major": 2,
       "version_minor": 0
      },
      "text/plain": [
       "interactive(children=(FloatSlider(value=5000000.5, description='A', max=10000000.0, min=1.0), FloatSlider(valu…"
      ]
     },
     "metadata": {},
     "output_type": "display_data"
    },
    {
     "data": {
      "text/plain": [
       "<function __main__.alpha(A, E, beta)>"
      ]
     },
     "execution_count": 5,
     "metadata": {},
     "output_type": "execute_result"
    }
   ],
   "source": [
    "def alpha(A, E, beta):\n",
    "    R = 8.314\n",
    "    plt.figure(1)\n",
    "    T = np.linspace(273, 1500, num=100)\n",
    "    c =  g(T, A, E, beta)\n",
    "    a = 1 - np.exp(-c)\n",
    "    u_min = round(E/(R*T[-1]))\n",
    "    u_max = round(E/(R*T[0]))\n",
    "    T_max = round(E/(R*13))\n",
    "    plt.title(f\"u_min={u_min} , u_max={u_max} , T_max={T_max}\")\n",
    "    plt.plot(T, a)\n",
    "    plt.show()\n",
    "\n",
    "\n",
    "interact(alpha, E=(10e3, 120e3), A=(1,10e6), beta=(1/60,100/60))"
   ]
  },
  {
   "cell_type": "code",
   "execution_count": 6,
   "metadata": {},
   "outputs": [
    {
     "data": {
      "application/vnd.jupyter.widget-view+json": {
       "model_id": "88ea2794bea4463baefdec23d63d1964",
       "version_major": 2,
       "version_minor": 0
      },
      "text/plain": [
       "interactive(children=(FloatSlider(value=5000050.0, description='A', max=10000000.0, min=100.0), FloatSlider(va…"
      ]
     },
     "metadata": {},
     "output_type": "display_data"
    },
    {
     "data": {
      "text/plain": [
       "<function __main__.dalpha(A, E, beta)>"
      ]
     },
     "execution_count": 6,
     "metadata": {},
     "output_type": "execute_result"
    }
   ],
   "source": [
    "def dalpha(A, E, beta):\n",
    "    R = 8.314\n",
    "    plt.figure(1)\n",
    "    T = np.linspace(273, 800, num=1000)\n",
    "    c =  g(T, A, E, beta)\n",
    "    # a = 1 - np.exp(-c)\n",
    "    a = c / (c+1)\n",
    "    # a = c\n",
    "    a[a > 1] = 0\n",
    "    u_min = round(E/(R*T[-1]))\n",
    "    u_max = round(E/(R*T[0]))\n",
    "    T_max = round(E/(R*13))\n",
    "    da = np.diff(a) / np.diff(T)\n",
    "    plt.title(f\"u_min={u_min} , u_max={u_max} , T_max={T_max}\")\n",
    "    plt.plot(T[1:], da)\n",
    "    plt.show()\n",
    "    \n",
    "interact(dalpha, E=(10e3, 120e3), A=(100,10e6), beta=(1/60,100/60))"
   ]
  },
  {
   "cell_type": "code",
   "execution_count": 7,
   "metadata": {},
   "outputs": [
    {
     "data": {
      "application/vnd.jupyter.widget-view+json": {
       "model_id": "7bdae9e627b348af804c9827859f3c9b",
       "version_major": 2,
       "version_minor": 0
      },
      "text/plain": [
       "interactive(children=(FloatSlider(value=5000050.0, description='A', max=10000000.0, min=100.0), FloatSlider(va…"
      ]
     },
     "metadata": {},
     "output_type": "display_data"
    },
    {
     "data": {
      "text/plain": [
       "<function __main__.alpha2(A, E, beta)>"
      ]
     },
     "execution_count": 7,
     "metadata": {},
     "output_type": "execute_result"
    }
   ],
   "source": [
    "def alpha2(A, E, beta):\n",
    "    R = 8.314\n",
    "    plt.figure(1)\n",
    "    T = np.linspace(273, 1500, num=1000)\n",
    "    c =  g(T, A, E, beta)\n",
    "    a = 1 - np.exp(-c)\n",
    "    u_min = round(E/(R*T[-1]))\n",
    "    u_max = round(E/(R*T[0]))\n",
    "    T_max = round(E/(R*13))\n",
    "        # Conversion thresholds (modify these as needed)\n",
    "    alpha_onset = 0.05  # 1% conversion\n",
    "    alpha_offset = 0.95  # 99% conversion\n",
    "\n",
    "    # Find indices of threshold crossings\n",
    "    onset_idx = np.where(a >= alpha_onset)[0][0]  # Index of first occurrence above threshold\n",
    "    offset_idx = np.where(a >= alpha_offset)[-1][0]  # Index of last occurrence above threshold\n",
    "\n",
    "    # Extract onset and offset temperatures\n",
    "    T_onset = T[onset_idx]\n",
    "    T_offset = T[offset_idx]\n",
    "    \n",
    "    plt.title(f\"u_min={u_min} , u_max={u_max} , T_max={T_max}\")\n",
    "    plt.plot(T, a)\n",
    "    plt.axvline(x=T_onset, color='r', linestyle='dashed')\n",
    "    plt.axvline(x= T_offset, color='r', linestyle='dashed')\n",
    "    plt.show()\n",
    "\n",
    "\n",
    "interact(alpha2, E=(10e3, 120e3), A=(100,10e6), beta=(1/60,100/60))"
   ]
  },
  {
   "cell_type": "markdown",
   "metadata": {},
   "source": [
    "## Reaction Kinetic Modelling\n",
    "\n",
    "### Rate of a Solid State Reaction\n",
    "\n",
    "Following equation describes the rate of a solid state reaction in the terms of the conversion. This is called the *isothermal reaction rate*.\n",
    "\n",
    "$$\\frac{d\\alpha}{dt} = Ae^{-\\frac{E_a}{RT}}f(\\alpha) \\tag{eq.1}$$"
   ]
  },
  {
   "cell_type": "markdown",
   "metadata": {},
   "source": [
    "But DSC Signals have temperature ($T$) as the independent variable. Therefore we need to obtain the reaction rate with respect to temperate. this is called non-isothermal reaction rate."
   ]
  },
  {
   "cell_type": "markdown",
   "metadata": {},
   "source": [
    "From chain rule;\n",
    "$$\\frac{d\\alpha}{dT} = \\frac{d\\alpha}{dt} \\frac{dt}{dT}$$\n",
    "\n",
    "\n"
   ]
  },
  {
   "cell_type": "markdown",
   "metadata": {},
   "source": [
    "If the heating rate $\\frac{dT}{dt}$ assumed to be constant, and let it be $\\beta$;\n",
    "$$\\frac{d\\alpha}{dT} = \\frac{d\\alpha}{dt} \\frac{1}{\\beta}$$\n",
    "\n",
    "from eq.1;\n",
    "$$\\frac{d\\alpha}{dT} = \\frac{A}{\\beta}e^{-\\frac{E_a}{RT}}f(\\alpha) \\tag{eq.2}$$"
   ]
  },
  {
   "cell_type": "markdown",
   "metadata": {},
   "source": [
    "Separating variables and integrating eq.2,\n",
    "\n",
    "$$\\int_{0}^{\\alpha}\\frac{1}{f(\\alpha)} d\\alpha=  \\frac{A}{\\beta} \\int_{0}^{T} e^{-\\frac{E_a}{RT}} dT$$\n",
    "$$g(\\alpha) =  \\frac{A}{\\beta} \\, \\Psi(T,E_a) \\tag{eq.2}$$\n",
    "\n",
    " where $g(\\alpha)  = \\int_{0}^{\\alpha}\\frac{1}{f(\\alpha)} d\\alpha$ and  $ \\Psi(T,E_a) = \\int_{0}^{T} e^{-\\frac{E_a}{RT}} dT$"
   ]
  },
  {
   "cell_type": "markdown",
   "metadata": {},
   "source": [
    "But the problem is that $\\Psi$ cannot be directly computed since the integral  $\\int_{0}^{T} e^{-\\frac{E_a}{RT}} dT$ cannot be solved analytically. Therefore an approximation will be used for following calculations."
   ]
  },
  {
   "cell_type": "markdown",
   "metadata": {},
   "source": [
    "From integration by parts,\n",
    "\n",
    "$$\\Psi(T,E_a) = \\int_{0}^{T} e^{-\\frac{E_a}{RT}} dT  = Te^{-\\frac{E_a}{RT}}\\Big|_{0}^{T} -  \\frac{E}{R} \\int_{0}^{T} \\frac{e^{-\\frac{E_a}{RT}}}{T} dT$$\n",
    "$$\\Psi(T,E_a) = Te^{-\\frac{E_a}{RT}} - \\frac{E_a}{R} E_1(T)$$\n",
    "\n",
    "Where $E_1$ is the Exponential integral E1."
   ]
  },
  {
   "cell_type": "code",
   "execution_count": 15,
   "metadata": {},
   "outputs": [
    {
     "name": "stdout",
     "output_type": "stream",
     "text": [
      "E1(0) = inf\n"
     ]
    }
   ],
   "source": [
    "from scipy.special import exp1\n",
    "\n",
    "x = 0\n",
    "result = exp1(x)\n",
    "print(f\"E1({x}) = {result}\")"
   ]
  },
  {
   "cell_type": "markdown",
   "metadata": {},
   "source": []
  }
 ],
 "metadata": {
  "kernelspec": {
   "display_name": ".env",
   "language": "python",
   "name": "python3"
  },
  "language_info": {
   "codemirror_mode": {
    "name": "ipython",
    "version": 3
   },
   "file_extension": ".py",
   "mimetype": "text/x-python",
   "name": "python",
   "nbconvert_exporter": "python",
   "pygments_lexer": "ipython3",
   "version": "3.12.2"
  }
 },
 "nbformat": 4,
 "nbformat_minor": 2
}
