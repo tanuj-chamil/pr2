{
 "cells": [
  {
   "cell_type": "code",
   "execution_count": 1,
   "metadata": {},
   "outputs": [],
   "source": [
    "from ipywidgets import interact\n",
    "import matplotlib.pyplot as plt\n",
    "import numpy as np\n",
    "from matplotlib.widgets import Slider"
   ]
  },
  {
   "cell_type": "code",
   "execution_count": 14,
   "metadata": {},
   "outputs": [],
   "source": [
    "def k(A,E,T):\n",
    "    R = 8.314\n",
    "    return A*np.exp(-E/(R*T))"
   ]
  },
  {
   "cell_type": "code",
   "execution_count": 20,
   "metadata": {},
   "outputs": [],
   "source": [
    "def F0(k,t):\n",
    "    return k*t"
   ]
  },
  {
   "cell_type": "code",
   "execution_count": 25,
   "metadata": {},
   "outputs": [],
   "source": [
    "import math\n",
    "\n",
    "def g(T, A, E, beta):\n",
    "    R = 8.314\n",
    "    c = math.log(A * E / (beta * R)) + 3.63504095 - 1.89466100 * math.log(E) - 1.00145033 * (E / (R * T))\n",
    "    return T**(1.89466100)*np.exp(c)\n"
   ]
  },
  {
   "cell_type": "code",
   "execution_count": 42,
   "metadata": {},
   "outputs": [
    {
     "data": {
      "application/vnd.jupyter.widget-view+json": {
       "model_id": "c382650d27034152837ce7be77f0e00a",
       "version_major": 2,
       "version_minor": 0
      },
      "text/plain": [
       "interactive(children=(FloatSlider(value=5000000.5, description='A', max=10000000.0, min=1.0), FloatSlider(valu…"
      ]
     },
     "metadata": {},
     "output_type": "display_data"
    },
    {
     "data": {
      "text/plain": [
       "<function __main__.alpha(A, E, beta)>"
      ]
     },
     "execution_count": 42,
     "metadata": {},
     "output_type": "execute_result"
    }
   ],
   "source": [
    "def alpha(A, E, beta):\n",
    "    R = 8.314\n",
    "    plt.figure(1)\n",
    "    T = np.linspace(273, 1500, num=100)\n",
    "    c =  g(T, A, E, beta)\n",
    "    a = 1 - np.exp(-c)\n",
    "    u_min = round(E/(R*T[-1]))\n",
    "    u_max = round(E/(R*T[0]))\n",
    "    T_max = round(E/(R*13))\n",
    "    plt.title(f\"u_min={u_min} , u_max={u_max} , T_max={T_max}\")\n",
    "    plt.plot(T, a)\n",
    "    plt.show()\n",
    "\n",
    "\n",
    "interact(alpha, E=(10e3, 120e3), A=(1,10e6), beta=(1/60,100/60))"
   ]
  },
  {
   "cell_type": "code",
   "execution_count": 74,
   "metadata": {},
   "outputs": [
    {
     "data": {
      "application/vnd.jupyter.widget-view+json": {
       "model_id": "825849530fe74795b8c26a50d873e8aa",
       "version_major": 2,
       "version_minor": 0
      },
      "text/plain": [
       "interactive(children=(FloatSlider(value=5000050.0, description='A', max=10000000.0, min=100.0), FloatSlider(va…"
      ]
     },
     "metadata": {},
     "output_type": "display_data"
    },
    {
     "data": {
      "text/plain": [
       "<function __main__.dalpha(A, E, beta)>"
      ]
     },
     "execution_count": 74,
     "metadata": {},
     "output_type": "execute_result"
    }
   ],
   "source": [
    "def dalpha(A, E, beta):\n",
    "    R = 8.314\n",
    "    plt.figure(1)\n",
    "    T = np.linspace(273, 800, num=1000)\n",
    "    c =  g(T, A, E, beta)\n",
    "    # a = 1 - np.exp(-c)\n",
    "    a = c / (c+1)\n",
    "    # a = c\n",
    "    a[a > 1] = 0\n",
    "    u_min = round(E/(R*T[-1]))\n",
    "    u_max = round(E/(R*T[0]))\n",
    "    T_max = round(E/(R*13))\n",
    "    da = np.diff(a) / np.diff(T)\n",
    "    plt.title(f\"u_min={u_min} , u_max={u_max} , T_max={T_max}\")\n",
    "    plt.plot(T[1:], da)\n",
    "    plt.show()\n",
    "    \n",
    "interact(dalpha, E=(10e3, 120e3), A=(100,10e6), beta=(1/60,100/60))"
   ]
  },
  {
   "cell_type": "code",
   "execution_count": 59,
   "metadata": {},
   "outputs": [
    {
     "data": {
      "application/vnd.jupyter.widget-view+json": {
       "model_id": "bcf15d7c53c04b56920bccf5e26f20e8",
       "version_major": 2,
       "version_minor": 0
      },
      "text/plain": [
       "interactive(children=(FloatSlider(value=5000050.0, description='A', max=10000000.0, min=100.0), FloatSlider(va…"
      ]
     },
     "metadata": {},
     "output_type": "display_data"
    },
    {
     "data": {
      "text/plain": [
       "<function __main__.alpha2(A, E, beta)>"
      ]
     },
     "execution_count": 59,
     "metadata": {},
     "output_type": "execute_result"
    }
   ],
   "source": [
    "def alpha2(A, E, beta):\n",
    "    R = 8.314\n",
    "    plt.figure(1)\n",
    "    T = np.linspace(273, 1500, num=1000)\n",
    "    c =  g(T, A, E, beta)\n",
    "    a = 1 - np.exp(-c)\n",
    "    u_min = round(E/(R*T[-1]))\n",
    "    u_max = round(E/(R*T[0]))\n",
    "    T_max = round(E/(R*13))\n",
    "        # Conversion thresholds (modify these as needed)\n",
    "    alpha_onset = 0.05  # 1% conversion\n",
    "    alpha_offset = 0.95  # 99% conversion\n",
    "\n",
    "    # Find indices of threshold crossings\n",
    "    onset_idx = np.where(a >= alpha_onset)[0][0]  # Index of first occurrence above threshold\n",
    "    offset_idx = np.where(a >= alpha_offset)[-1][0]  # Index of last occurrence above threshold\n",
    "\n",
    "    # Extract onset and offset temperatures\n",
    "    T_onset = T[onset_idx]\n",
    "    T_offset = T[offset_idx]\n",
    "    \n",
    "    plt.title(f\"u_min={u_min} , u_max={u_max} , T_max={T_max}\")\n",
    "    plt.plot(T, a)\n",
    "    plt.axvline(x=T_onset, color='r', linestyle='dashed')\n",
    "    plt.axvline(x= T_offset, color='r', linestyle='dashed')\n",
    "    plt.show()\n",
    "\n",
    "\n",
    "interact(alpha2, E=(10e3, 120e3), A=(100,10e6), beta=(1/60,100/60))"
   ]
  }
 ],
 "metadata": {
  "kernelspec": {
   "display_name": ".env",
   "language": "python",
   "name": "python3"
  },
  "language_info": {
   "codemirror_mode": {
    "name": "ipython",
    "version": 3
   },
   "file_extension": ".py",
   "mimetype": "text/x-python",
   "name": "python",
   "nbconvert_exporter": "python",
   "pygments_lexer": "ipython3",
   "version": "3.12.2"
  }
 },
 "nbformat": 4,
 "nbformat_minor": 2
}
