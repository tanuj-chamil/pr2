{
 "cells": [
  {
   "cell_type": "code",
   "execution_count": 3,
   "metadata": {},
   "outputs": [],
   "source": [
    "from ipywidgets import interact\n",
    "import matplotlib.pyplot as plt\n",
    "import numpy as np\n",
    "from matplotlib.widgets import Slider"
   ]
  },
  {
   "cell_type": "code",
   "execution_count": 4,
   "metadata": {},
   "outputs": [],
   "source": [
    "def k(A,E,T):\n",
    "    R = 8.314\n",
    "    return A*np.exp(-E/(R*T))"
   ]
  },
  {
   "cell_type": "code",
   "execution_count": 5,
   "metadata": {},
   "outputs": [],
   "source": [
    "def F0(k,t):\n",
    "    return k*t"
   ]
  },
  {
   "cell_type": "code",
   "execution_count": 6,
   "metadata": {},
   "outputs": [],
   "source": [
    "import math\n",
    "\n",
    "def g1(T, A, E, beta):\n",
    "    R = 8.314\n",
    "    c = math.log(A * E / (beta * R)) + 3.63504095 - 1.89466100 * math.log(E) - 1.00145033 * (E / (R * T))\n",
    "    return T**(1.89466100)*np.exp(c)\n"
   ]
  },
  {
   "cell_type": "code",
   "execution_count": 7,
   "metadata": {},
   "outputs": [
    {
     "data": {
      "application/vnd.jupyter.widget-view+json": {
       "model_id": "6b4e3b1bbfba41168539611756ee6569",
       "version_major": 2,
       "version_minor": 0
      },
      "text/plain": [
       "interactive(children=(FloatSlider(value=5000000.5, description='A', max=10000000.0, min=1.0), FloatSlider(valu…"
      ]
     },
     "metadata": {},
     "output_type": "display_data"
    },
    {
     "data": {
      "text/plain": [
       "<function __main__.alpha1(A, E, beta)>"
      ]
     },
     "execution_count": 7,
     "metadata": {},
     "output_type": "execute_result"
    }
   ],
   "source": [
    "def alpha1(A, E, beta):\n",
    "    R = 8.314\n",
    "    plt.figure(1)\n",
    "    T = np.linspace(273, 1500, num=100)\n",
    "    c =  g1(T, A, E, beta)\n",
    "    a = 1 - np.exp(-c)\n",
    "    u_min = round(E/(R*T[-1]))\n",
    "    u_max = round(E/(R*T[0]))\n",
    "    T_max = round(E/(R*13))\n",
    "    plt.title(f\"u_min={u_min} , u_max={u_max} , T_max={T_max}\")\n",
    "    plt.plot(T, a)\n",
    "    plt.show()\n",
    "\n",
    "\n",
    "interact(alpha1, E=(10e3, 120e3), A=(1,10e6), beta=(1/60,100/60))"
   ]
  },
  {
   "cell_type": "code",
   "execution_count": 8,
   "metadata": {},
   "outputs": [
    {
     "data": {
      "text/plain": [
       "<Figure size 640x480 with 0 Axes>"
      ]
     },
     "metadata": {},
     "output_type": "display_data"
    },
    {
     "data": {
      "application/vnd.jupyter.widget-view+json": {
       "model_id": "3d22f8e66d72447c9145456f72bc63a2",
       "version_major": 2,
       "version_minor": 0
      },
      "text/plain": [
       "interactive(children=(FloatSlider(value=5000050.0, description='A', max=10000000.0, min=100.0), FloatSlider(va…"
      ]
     },
     "metadata": {},
     "output_type": "display_data"
    },
    {
     "data": {
      "text/plain": [
       "<function __main__.dalpha(A, E, beta)>"
      ]
     },
     "execution_count": 8,
     "metadata": {},
     "output_type": "execute_result"
    }
   ],
   "source": [
    "def dalpha(A, E, beta):\n",
    "    R = 8.314\n",
    "    plt.figure(1)\n",
    "    T = np.linspace(273, 800, num=1000)\n",
    "    c =  g(T, A, E, beta)\n",
    "    # a = 1 - np.exp(-c)\n",
    "    a = c / (c+1)\n",
    "    # a = c\n",
    "    a[a > 1] = 0\n",
    "    u_min = round(E/(R*T[-1]))\n",
    "    u_max = round(E/(R*T[0]))\n",
    "    T_max = round(E/(R*13))\n",
    "    da = np.diff(a) / np.diff(T)\n",
    "    plt.title(f\"u_min={u_min} , u_max={u_max} , T_max={T_max}\")\n",
    "    plt.plot(T[1:], da)\n",
    "    plt.show()\n",
    "    \n",
    "interact(dalpha, E=(10e3, 120e3), A=(100,10e6), beta=(1/60,100/60))"
   ]
  },
  {
   "cell_type": "code",
   "execution_count": 9,
   "metadata": {},
   "outputs": [
    {
     "data": {
      "text/plain": [
       "<Figure size 640x480 with 0 Axes>"
      ]
     },
     "metadata": {},
     "output_type": "display_data"
    },
    {
     "data": {
      "application/vnd.jupyter.widget-view+json": {
       "model_id": "2aea750d3a444d6ab0965ea5a33c629d",
       "version_major": 2,
       "version_minor": 0
      },
      "text/plain": [
       "interactive(children=(FloatSlider(value=5000050.0, description='A', max=10000000.0, min=100.0), FloatSlider(va…"
      ]
     },
     "metadata": {},
     "output_type": "display_data"
    },
    {
     "data": {
      "text/plain": [
       "<function __main__.alpha2(A, E, beta)>"
      ]
     },
     "execution_count": 9,
     "metadata": {},
     "output_type": "execute_result"
    }
   ],
   "source": [
    "def alpha2(A, E, beta):\n",
    "    R = 8.314\n",
    "    plt.figure(1)\n",
    "    T = np.linspace(273, 1500, num=1000)\n",
    "    c =  g(T, A, E, beta)\n",
    "    a = 1 - np.exp(-c)\n",
    "    u_min = round(E/(R*T[-1]))\n",
    "    u_max = round(E/(R*T[0]))\n",
    "    T_max = round(E/(R*13))\n",
    "        # Conversion thresholds (modify these as needed)\n",
    "    alpha_onset = 0.05  # 1% conversion\n",
    "    alpha_offset = 0.95  # 99% conversion\n",
    "\n",
    "    # Find indices of threshold crossings\n",
    "    onset_idx = np.where(a >= alpha_onset)[0][0]  # Index of first occurrence above threshold\n",
    "    offset_idx = np.where(a >= alpha_offset)[-1][0]  # Index of last occurrence above threshold\n",
    "\n",
    "    # Extract onset and offset temperatures\n",
    "    T_onset = T[onset_idx]\n",
    "    T_offset = T[offset_idx]\n",
    "    \n",
    "    plt.title(f\"u_min={u_min} , u_max={u_max} , T_max={T_max}\")\n",
    "    plt.plot(T, a)\n",
    "    plt.axvline(x=T_onset, color='r', linestyle='dashed')\n",
    "    plt.axvline(x= T_offset, color='r', linestyle='dashed')\n",
    "    plt.show()\n",
    "\n",
    "\n",
    "interact(alpha2, E=(10e3, 120e3), A=(100,10e6), beta=(1/60,100/60))"
   ]
  },
  {
   "cell_type": "markdown",
   "metadata": {},
   "source": [
    "## Reaction Kinetic Modelling\n",
    "\n",
    "### Rate of a Solid State Reaction\n",
    "\n",
    "Following equation describes the rate of a solid state reaction in the terms of the conversion. This is called the *isothermal reaction rate*.\n",
    "\n",
    "$$\\frac{d\\alpha}{dt} = Ae^{-\\frac{E_a}{RT}}f(\\alpha) \\tag{eq.1}$$"
   ]
  },
  {
   "cell_type": "markdown",
   "metadata": {},
   "source": [
    "But DSC Signals have temperature ($T$) as the independent variable. Therefore we need to obtain the reaction rate with respect to temperate. this is called non-isothermal reaction rate."
   ]
  },
  {
   "cell_type": "markdown",
   "metadata": {},
   "source": [
    "From chain rule;\n",
    "$$\\frac{d\\alpha}{dT} = \\frac{d\\alpha}{dt} \\frac{dt}{dT}$$\n",
    "\n",
    "\n"
   ]
  },
  {
   "cell_type": "markdown",
   "metadata": {},
   "source": [
    "If the heating rate $\\frac{dT}{dt}$ assumed to be constant, and let it be $\\beta$;\n",
    "$$\\frac{d\\alpha}{dT} = \\frac{d\\alpha}{dt} \\frac{1}{\\beta}$$\n",
    "\n",
    "from eq.1;\n",
    "$$\\frac{d\\alpha}{dT} = \\frac{A}{\\beta}e^{-\\frac{E_a}{RT}}f(\\alpha) \\tag{eq.2}$$"
   ]
  },
  {
   "cell_type": "markdown",
   "metadata": {},
   "source": [
    "Separating variables and integrating eq.2,\n",
    "\n",
    "$$\\int_{0}^{\\alpha}\\frac{1}{f(\\alpha)} d\\alpha=  \\frac{A}{\\beta} \\int_{0}^{T} e^{-\\frac{E_a}{RT}} dT$$\n",
    "$$g(\\alpha) =  \\frac{A}{\\beta} \\, \\Psi(T,E_a) \\tag{eq.2}$$\n",
    "\n",
    " where $g(\\alpha)  = \\int_{0}^{\\alpha}\\frac{1}{f(\\alpha)} d\\alpha$ and  $ \\Psi(T,E_a) = \\int_{0}^{T} e^{-\\frac{E_a}{RT}} dT$"
   ]
  },
  {
   "cell_type": "markdown",
   "metadata": {},
   "source": [
    "But the problem is that $\\Psi$ cannot be directly computed since the integral  $\\int_{0}^{T} e^{-\\frac{E_a}{RT}} dT$ cannot be solved analytically. Therefore an approximation will be used for following calculations."
   ]
  },
  {
   "cell_type": "markdown",
   "metadata": {},
   "source": [
    "From integration by parts,\n",
    "\n",
    "$$\\Psi(T,E_a) = \\int_{0}^{T} e^{-\\frac{E_a}{RT}} dT  = Te^{-\\frac{E_a}{RT}}\\Big|_{0}^{T} -  \\frac{E_a}{R} \\int_{0}^{T} \\frac{e^{-\\frac{E_a}{RT}}}{T} dT$$\n",
    "$$\\Psi(T,E_a) = Te^{-\\frac{E_a}{RT}} - \\frac{E_a}{R} E_1\\left({E_a}/{RT}\\right)$$\n",
    "\n",
    "Where $E_1$ is the Exponential integral E1."
   ]
  },
  {
   "cell_type": "markdown",
   "metadata": {},
   "source": [
    "Therefore;\n",
    "\n",
    "$$g(\\alpha) =  \\frac{A}{\\beta}\\Psi(T,E_a) = \\frac{A}{\\beta}\\left(Te^{-\\frac{E_a}{RT}} - \\frac{E_a}{R} E_1({E_a}/{RT})\\right) = G(T,E_a, A, \\beta) \\tag{eq.3}$$\n"
   ]
  },
  {
   "cell_type": "markdown",
   "metadata": {},
   "source": [
    "Assuming $g^{-1}$ exists; \n",
    "$$\\alpha = g^{-1}\\left\\{G(T,E_a,A, \\beta)\\right\\} \\tag{eq.4}$$"
   ]
  },
  {
   "cell_type": "markdown",
   "metadata": {},
   "source": [
    "for models that $g^{-1}$ does not exists, $\\alpha$ can be determined solving the eq.3 numerically. "
   ]
  },
  {
   "cell_type": "markdown",
   "metadata": {},
   "source": [
    "Taking reaction heat as $Q_r$, for a given moment DSC signal can be written as;\n",
    "$$dsc = \\Delta C_p \\frac{dT}{dt} + Q_r \\frac{d\\alpha}{dt}$$\n",
    "$$dsc = \\Delta C_p \\frac{dT}{dt} + Q_r \\frac{d\\alpha}{dT}\\frac{dT}{dt}$$\n",
    "$$dsc = \\frac{dT}{dt}\\left(\\Delta C_p + Q_r \\frac{d\\alpha}{dT}\\right) = \\beta\\left(\\Delta C_p + Q_r \\frac{d\\alpha}{dT}\\right)$$"
   ]
  },
  {
   "cell_type": "markdown",
   "metadata": {},
   "source": [
    "Now consider the $\\Delta C_p$\n",
    "\n",
    "Assuming total mass change in the reaction is $\\Delta m$;\n",
    "\n",
    "$$\\Delta C_p = C_p^{S} - C_p^{R}$$\n",
    "$$\\Delta C_p = \\left\\{(1-\\alpha)m_ic_p^{r} + \\alpha m_fc_p^{p}\\right\\} - m_Rc_p^{R}$$"
   ]
  },
  {
   "cell_type": "markdown",
   "metadata": {},
   "source": [
    "Assume a reaction;\n",
    "\n",
    "$$\\sum_{i=1}^a r_iR_i \\rightarrow \\sum_{j=1}^b p_jP_j$$"
   ]
  },
  {
   "cell_type": "markdown",
   "metadata": {},
   "source": [
    "Let's take $m_{i}$, $M_{i}$ and $n_{i}$ be the initial mass, molar mass, and number of moles of reactants respectively.\n",
    "\n",
    "Let's take $m_j$, $M_j$ and $n_j$ be the mass, molar mass, and number of moles of reactants respectively.\n",
    "\n",
    "$$\\gamma = \\min{\\left\\{\\frac{n_i}{r_i}\\right\\}} = \\min{\\left\\{\\frac{m_i}{M_ir_i}\\right\\}} $$\n"
   ]
  },
  {
   "cell_type": "markdown",
   "metadata": {},
   "source": [
    "\n",
    "Consider the mass of the $i^{th}$ reactant $m_i^{\\alpha}$ at $\\alpha$ conversion;\n",
    "\n",
    "$$m_i^{\\alpha} = m_i-M_ir_i\\gamma\\alpha$$"
   ]
  },
  {
   "cell_type": "markdown",
   "metadata": {},
   "source": [
    "Consider the mass of the $j^{th}$ product $m_j^{\\alpha}$ at $\\alpha$ conversion;\n",
    "\n",
    "$$m_j^{\\alpha} = m_j+M_jp_j\\gamma\\alpha$$"
   ]
  },
  {
   "cell_type": "markdown",
   "metadata": {},
   "source": [
    "$$  s_k = \\left\\{\n",
    "\\begin{array}{ll}\n",
    "      0 & ;k = \\text{gas} \\\\\n",
    "      1 & ;k = \\text{other states} \\\\\n",
    "\\end{array} \n",
    "\\right. $$"
   ]
  },
  {
   "cell_type": "markdown",
   "metadata": {},
   "source": [
    "Therefore;\n",
    "\n",
    "$$C_p^S = \\sum_{i=1}^a s_im_i^{\\alpha}c_i + \\sum_{j=1}^b s_jm_j^{\\alpha}c_j$$"
   ]
  },
  {
   "cell_type": "code",
   "execution_count": 10,
   "metadata": {},
   "outputs": [],
   "source": [
    "from scipy.special import exp1\n",
    "\n",
    "def G(T,Ea, A, beta):\n",
    "    R = 8.314\n",
    "    return (A/beta)*(T*np.exp(-Ea/(R*T))-(Ea/R)*exp1(Ea/R*T))"
   ]
  },
  {
   "cell_type": "code",
   "execution_count": 11,
   "metadata": {},
   "outputs": [],
   "source": [
    "def F0(g):\n",
    "    return np.minimum(g,np.ones(g.shape))\n",
    "\n",
    "def F1(g):\n",
    "    return 1 - np.exp(-g)\n",
    "\n",
    "def F2(g):\n",
    "    return g / (g+1)\n"
   ]
  },
  {
   "cell_type": "code",
   "execution_count": 12,
   "metadata": {},
   "outputs": [],
   "source": [
    "def Cp(c,T):\n",
    "    T = T/1000\n",
    "    return c[0] + c[1]*T +c[2]*T**2 + c[3]*T**3 + c[4]*T**-2"
   ]
  },
  {
   "cell_type": "code",
   "execution_count": 13,
   "metadata": {},
   "outputs": [],
   "source": [
    "def alpha(A, Ea, beta, T):\n",
    "    return F2(G(T, Ea, A, beta))"
   ]
  },
  {
   "cell_type": "code",
   "execution_count": 14,
   "metadata": {},
   "outputs": [],
   "source": [
    "def dalpha(a,T):\n",
    "    return np.diff(a) / np.diff(T)"
   ]
  },
  {
   "cell_type": "code",
   "execution_count": 25,
   "metadata": {},
   "outputs": [
    {
     "data": {
      "text/plain": [
       "Text(0, 0.5, 'dQ/dt (W)')"
      ]
     },
     "execution_count": 25,
     "metadata": {},
     "output_type": "execute_result"
    },
    {
     "data": {
      "image/png": "[encoded data removed]",
      "text/plain": [
       "<Figure size 640x480 with 1 Axes>"
      ]
     },
     "metadata": {},
     "output_type": "display_data"
    }
   ],
   "source": [
    "a, b,  c,  d,  e,  m,  M,  r,  s = [i for i in range(9)]\n",
    "# Define the reactants as a 2D list\n",
    "react = np.array([\n",
    "   # a, b, c, d, e, m, M, r, s  \n",
    "    [55, 13, 5e-1,5e-2, 1, 20e-3, 56, 1, 1],\n",
    "])\n",
    "\n",
    "prod  = np.array([\n",
    "    [65, 4, -5e-1,-5e-2, 8e-1, 10e-3, 56, 1, 1],\n",
    "])\n",
    "\n",
    "Ea = 150e3\n",
    "A  = 1e9\n",
    "beta = 60/60\n",
    "T = np.arange(273,1273,0.25)\n",
    "a = alpha(A, Ea, beta, T)\n",
    "da = dalpha(a,T)\n",
    "\n",
    "\n",
    "gamma = float('inf')\n",
    "for R in react:\n",
    "    gamma = min(gamma, R[m]/(R[M]*R[r]))\n",
    "\n",
    "\n",
    "cr = 0   \n",
    "for R in react:\n",
    "    mr = R[m]- R[M]*R[r]*gamma*a\n",
    "    cr += R[s]*mr*Cp(R[:5],T)\n",
    "\n",
    "cp = 0   \n",
    "for P in prod:\n",
    "    mp = P[m]+ P[M]*P[r]*gamma*a\n",
    "    cp += P[s]*mp*Cp(P[:5],T)\n",
    "    \n",
    "Cs = cr + cp\n",
    "Cr = 0\n",
    "delta_Cp = Cs-Cr\n",
    "Qr = gamma*-90e3\n",
    "\n",
    "base = (beta*delta_Cp)[1:]\n",
    "dsc = ((beta*delta_Cp)[1:] + beta*Qr*da)\n",
    "\n",
    "plt.plot(T[1:],dsc, label=\"DSC\" )\n",
    "plt.plot(T[1:],base,linewidth=1,linestyle='dashed', label=\"Baseline\")\n",
    "plt.legend()\n",
    "plt.xlabel(\"Temperature (K)\")\n",
    "plt.ylabel(\"dQ/dt (W)\")\n"
   ]
  },
  {
   "cell_type": "code",
   "execution_count": null,
   "metadata": {},
   "outputs": [],
   "source": []
  },
  {
   "cell_type": "code",
   "execution_count": null,
   "metadata": {},
   "outputs": [],
   "source": []
  }
 ],
 "metadata": {
  "kernelspec": {
   "display_name": ".env",
   "language": "python",
   "name": "python3"
  },
  "language_info": {
   "codemirror_mode": {
    "name": "ipython",
    "version": 3
   },
   "file_extension": ".py",
   "mimetype": "text/x-python",
   "name": "python",
   "nbconvert_exporter": "python",
   "pygments_lexer": "ipython3",
   "version": "3.12.2"
  }
 },
 "nbformat": 4,
 "nbformat_minor": 2
}
