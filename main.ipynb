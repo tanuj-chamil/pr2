{
 "cells": [
  {
   "cell_type": "code",
   "execution_count": 1,
   "metadata": {},
   "outputs": [],
   "source": [
    "from ipywidgets import interact\n",
    "import matplotlib.pyplot as plt\n",
    "import numpy as np\n",
    "from matplotlib.widgets import Slider"
   ]
  },
  {
   "cell_type": "code",
   "execution_count": 14,
   "metadata": {},
   "outputs": [],
   "source": [
    "def k(A,E,T):\n",
    "    R = 8.314\n",
    "    return A*np.exp(-E/(R*T))"
   ]
  },
  {
   "cell_type": "code",
   "execution_count": 20,
   "metadata": {},
   "outputs": [],
   "source": [
    "def F0(k,t):\n",
    "    return k*t"
   ]
  },
  {
   "cell_type": "code",
   "execution_count": 25,
   "metadata": {},
   "outputs": [],
   "source": [
    "import math\n",
    "\n",
    "def g(T, A, E, beta):\n",
    "    R = 8.314\n",
    "    c = math.log(A * E / (beta * R)) + 3.63504095 - 1.89466100 * math.log(E) - 1.00145033 * (E / (R * T))\n",
    "    return T**(1.89466100)*np.exp(c)\n"
   ]
  },
  {
   "cell_type": "code",
   "execution_count": 29,
   "metadata": {},
   "outputs": [
    {
     "data": {
      "application/vnd.jupyter.widget-view+json": {
       "model_id": "a4b26293d04145959887ecfb199ce469",
       "version_major": 2,
       "version_minor": 0
      },
      "text/plain": [
       "interactive(children=(FloatSlider(value=5000000.5, description='A', max=10000000.0, min=1.0), FloatSlider(valu…"
      ]
     },
     "metadata": {},
     "output_type": "display_data"
    },
    {
     "data": {
      "text/plain": [
       "<function __main__.alpha(A, E, beta)>"
      ]
     },
     "execution_count": 29,
     "metadata": {},
     "output_type": "execute_result"
    }
   ],
   "source": [
    "def alpha(A, E, beta):\n",
    "    plt.figure(1)\n",
    "    T = np.linspace(1, 1500, num=100)\n",
    "    c =  g(T, A, E, beta)\n",
    "    a = 1 - np.exp(-c)\n",
    "    plt.plot(T, a)\n",
    "    plt.show()\n",
    "\n",
    "\n",
    "interact(alpha, E=(1, 300e3), A=(1,10e6), beta=(1/60,100/60))"
   ]
  }
 ],
 "metadata": {
  "kernelspec": {
   "display_name": ".env",
   "language": "python",
   "name": "python3"
  },
  "language_info": {
   "codemirror_mode": {
    "name": "ipython",
    "version": 3
   },
   "file_extension": ".py",
   "mimetype": "text/x-python",
   "name": "python",
   "nbconvert_exporter": "python",
   "pygments_lexer": "ipython3",
   "version": "3.12.2"
  }
 },
 "nbformat": 4,
 "nbformat_minor": 2
}
